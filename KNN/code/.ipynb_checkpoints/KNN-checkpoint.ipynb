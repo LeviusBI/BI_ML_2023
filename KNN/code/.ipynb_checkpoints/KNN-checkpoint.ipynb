{
 "cells": [
  {
   "cell_type": "markdown",
   "metadata": {},
   "source": [
    "# Домашнее задание №1 - Метод К-ближайших соседей (K-neariest neighbors)\n",
    "\n",
    "Сегодня мы с вами реализуем наш первый алгоритм машинного обучения, метод К-ближайших соседей. Мы попытаемся решить с помощью него задачи:\n",
    "- бинарной классификации (то есть, только двум классам)\n",
    "- многоклассовой классификации (то есть, нескольким классам)\n",
    "- регрессии (когда зависимая переменная - натуральное число)\n",
    "\n",
    "Так как методу необходим гиперпараметр (hyperparameter) - количество соседей, то нам нужно научиться подбирать этот параметр. Мы постараемся научиться пользовать numpy для векторизованных вычислений, а также посмотрим на несколько метрик, которые используются в задачах классификации и регрессии.\n",
    "\n",
    "Перед выполнением задания:\n",
    "- установите все необходимые библиотеки, запустив `pip install -r requirements.txt`\n",
    "\n",
    "Если вы раньше не работали с numpy или позабыли его, то можно вспомнить здесь:  \n",
    "http://cs231n.github.io/python-numpy-tutorial/"
   ]
  },
  {
   "cell_type": "code",
   "execution_count": 1,
   "metadata": {},
   "outputs": [
    {
     "name": "stdout",
     "output_type": "stream",
     "text": [
      "Requirement already satisfied: numpy in /home/lev/anaconda3/lib/python3.7/site-packages (from -r requirements.txt (line 1)) (1.15.1)\n",
      "Requirement already satisfied: matplotlib in /home/lev/anaconda3/lib/python3.7/site-packages (from -r requirements.txt (line 2)) (2.2.3)\n",
      "Requirement already satisfied: pandas in /home/lev/anaconda3/lib/python3.7/site-packages (from -r requirements.txt (line 3)) (0.23.4)\n",
      "Requirement already satisfied: sklearn in /home/lev/anaconda3/lib/python3.7/site-packages (from -r requirements.txt (line 4)) (0.0.post1)\n",
      "Requirement already satisfied: seaborn in /home/lev/anaconda3/lib/python3.7/site-packages (from -r requirements.txt (line 5)) (0.9.0)\n",
      "Requirement already satisfied: cycler>=0.10 in /home/lev/anaconda3/lib/python3.7/site-packages (from matplotlib->-r requirements.txt (line 2)) (0.10.0)\n",
      "Requirement already satisfied: pyparsing!=2.0.4,!=2.1.2,!=2.1.6,>=2.0.1 in /home/lev/anaconda3/lib/python3.7/site-packages (from matplotlib->-r requirements.txt (line 2)) (2.2.0)\n",
      "Requirement already satisfied: python-dateutil>=2.1 in /home/lev/anaconda3/lib/python3.7/site-packages (from matplotlib->-r requirements.txt (line 2)) (2.7.3)\n",
      "Requirement already satisfied: pytz in /home/lev/anaconda3/lib/python3.7/site-packages (from matplotlib->-r requirements.txt (line 2)) (2018.5)\n",
      "Requirement already satisfied: six>=1.10 in /home/lev/anaconda3/lib/python3.7/site-packages (from matplotlib->-r requirements.txt (line 2)) (1.11.0)\n",
      "Requirement already satisfied: kiwisolver>=1.0.1 in /home/lev/anaconda3/lib/python3.7/site-packages (from matplotlib->-r requirements.txt (line 2)) (1.0.1)\n",
      "Requirement already satisfied: scipy>=0.14.0 in /home/lev/anaconda3/lib/python3.7/site-packages (from seaborn->-r requirements.txt (line 5)) (1.1.0)\n",
      "Requirement already satisfied: setuptools in /home/lev/anaconda3/lib/python3.7/site-packages (from kiwisolver>=1.0.1->matplotlib->-r requirements.txt (line 2)) (61.2.0)\n"
     ]
    }
   ],
   "source": [
    "!pip install -r requirements.txt"
   ]
  },
  {
   "cell_type": "code",
   "execution_count": 13,
   "metadata": {},
   "outputs": [
    {
     "name": "stdout",
     "output_type": "stream",
     "text": [
      "Collecting scikit-learn==0.23\n",
      "  Downloading scikit_learn-0.23.0-cp37-cp37m-manylinux1_x86_64.whl (7.3 MB)\n",
      "\u001b[2K     \u001b[38;2;114;156;31m━━━━━━━━━━━━━━━━━━━━━━━━━━━━━━━━━━━━━━━━\u001b[0m \u001b[32m7.3/7.3 MB\u001b[0m \u001b[31m923.4 kB/s\u001b[0m eta \u001b[36m0:00:00\u001b[0mm eta \u001b[36m0:00:01\u001b[0m[36m0:00:01\u001b[0m\n",
      "\u001b[?25hRequirement already satisfied: scipy>=0.19.1 in /home/lev/anaconda3/lib/python3.7/site-packages (from scikit-learn==0.23) (1.1.0)\n",
      "Collecting threadpoolctl>=2.0.0\n",
      "  Downloading threadpoolctl-3.1.0-py3-none-any.whl (14 kB)\n",
      "Requirement already satisfied: numpy>=1.13.3 in /home/lev/anaconda3/lib/python3.7/site-packages (from scikit-learn==0.23) (1.15.1)\n",
      "Requirement already satisfied: joblib>=0.11 in /home/lev/anaconda3/lib/python3.7/site-packages (from scikit-learn==0.23) (1.2.0)\n",
      "Installing collected packages: threadpoolctl, scikit-learn\n",
      "  Attempting uninstall: scikit-learn\n",
      "    Found existing installation: scikit-learn 0.22.1\n",
      "    Uninstalling scikit-learn-0.22.1:\n",
      "      Successfully uninstalled scikit-learn-0.22.1\n",
      "Successfully installed scikit-learn-0.23.0 threadpoolctl-3.1.0\n"
     ]
    }
   ],
   "source": [
    "!pip install scikit-learn==0.23"
   ]
  },
  {
   "cell_type": "code",
   "execution_count": 2,
   "metadata": {
    "scrolled": true
   },
   "outputs": [],
   "source": [
    "import time\n",
    "import matplotlib.pyplot as plt\n",
    "import seaborn as sns\n",
    "import numpy as np\n",
    "import random\n",
    "import pandas as pd\n",
    "\n",
    "\n",
    "from sklearn.datasets import fetch_openml\n",
    "from sklearn.model_selection import train_test_split\n",
    "from knn import KNNClassifier\n",
    "from metrics import binary_classification_metrics, multiclass_accuracy"
   ]
  },
  {
   "cell_type": "code",
   "execution_count": 3,
   "metadata": {},
   "outputs": [],
   "source": [
    "plt.rcParams[\"figure.figsize\"] = 12, 9\n",
    "sns.set_style(\"whitegrid\")\n",
    "\n",
    "SEED = 111\n",
    "random.seed(SEED)\n",
    "np.random.seed(SEED)"
   ]
  },
  {
   "cell_type": "markdown",
   "metadata": {},
   "source": [
    "## Задание 1. KNN на датасете Fashion-MNIST (10 баллов)"
   ]
  },
  {
   "cell_type": "markdown",
   "metadata": {},
   "source": [
    "В этом задании вам предстоит поработать с картинками одежды, среди которых можно выделить 10 классов. Данные уже загружены за вас: в переменной X лежат 70000 картинок размером 28 на 28 пикселей, вытянутые в вектор размерностью 784 (28 * 28). Так как данных довольно много, а наш KNN будет весьма медленный, то возьмем случайно 1000 наблюдений (в реальности в зависимости от вашей реализации можно будет взять больше, но если будет не зватать ОЗУ, то берите меньше)."
   ]
  },
  {
   "cell_type": "code",
   "execution_count": 54,
   "metadata": {},
   "outputs": [],
   "source": [
    "X, y = fetch_openml(name=\"Fashion-MNIST\", return_X_y=True, as_frame=False)"
   ]
  },
  {
   "cell_type": "code",
   "execution_count": 79,
   "metadata": {},
   "outputs": [],
   "source": [
    "idx_to_stay = np.random.choice(np.arange(X.shape[0]), replace=False, size=1000)\n",
    "X = X[idx_to_stay]\n",
    "y = y[idx_to_stay]"
   ]
  },
  {
   "cell_type": "markdown",
   "metadata": {},
   "source": [
    "Давайте посмотрим на какое-нибудь изображение из наших данных:"
   ]
  },
  {
   "cell_type": "code",
   "execution_count": 80,
   "metadata": {},
   "outputs": [
    {
     "data": {
      "image/png": "[encoded data removed]",
      "text/plain": [
       "<Figure size 864x648 with 1 Axes>"
      ]
     },
     "metadata": {},
     "output_type": "display_data"
    }
   ],
   "source": [
    "# возьмем случайную картинку и сделаем reshape\n",
    "# 28, 28, 1 = H, W, C (число каналов, в данном случае 1)\n",
    "image = X[np.random.choice(np.arange(X.shape[0]))].reshape(28, 28)\n",
    "plt.imshow(image)\n",
    "plt.axis(\"off\");"
   ]
  },
  {
   "cell_type": "markdown",
   "metadata": {},
   "source": [
    "### 1.1. Посмотрим на все классы (0.5 баллов)"
   ]
  },
  {
   "cell_type": "markdown",
   "metadata": {},
   "source": [
    "Возьмите по одной картинке каждого класса и изобразите их (например, сделайте subplots 5 на 2)."
   ]
  },
  {
   "cell_type": "code",
   "execution_count": 103,
   "metadata": {},
   "outputs": [
    {
     "data": {
      "image/png": "[encoded data removed]",
      "text/plain": [
       "<Figure size 1440x1440 with 10 Axes>"
      ]
     },
     "metadata": {},
     "output_type": "display_data"
    }
   ],
   "source": [
    "fig, ax = plt.subplots(figsize=(20,20), nrows=5, ncols=2)\n",
    "ax = ax.ravel()\n",
    "\n",
    "for i in range(10):\n",
    "    class_mask = (y == f'{i}')\n",
    "    image = X[class_mask][0].reshape(28, 28)\n",
    "    ax[i].imshow(image)\n",
    "    ax[i].axis(\"off\");"
   ]
  },
  {
   "cell_type": "markdown",
   "metadata": {},
   "source": [
    "### 1.2. Сделайте небольшой EDA (1 балл)"
   ]
  },
  {
   "cell_type": "markdown",
   "metadata": {},
   "source": [
    "Посмотрите на баланс классов. В дальнейших домашках делайте EDA, когда считаете нужным, он нужен почти всегда, но оцениваться это уже не будет, если не будет указано иное. Делайте EDA, чтобы узнать что-то новое о данных!"
   ]
  },
  {
   "cell_type": "code",
   "execution_count": 116,
   "metadata": {},
   "outputs": [],
   "source": [
    "y1 = y\n",
    "\n",
    "to_rep = []\n",
    "for i in range(10):\n",
    "    to_rep.append(str(i))"
   ]
  },
  {
   "cell_type": "code",
   "execution_count": 117,
   "metadata": {},
   "outputs": [],
   "source": [
    "val = [\"T-shirt/top\", \"Trouser\", \"Pullover\", \"Dress\", \"Coat\", \"Sandal\",\n",
    "        \"Shirt\",\"Sneaker\", \"Bag\", \"Ankle boot\"]"
   ]
  },
  {
   "cell_type": "code",
   "execution_count": 122,
   "metadata": {
    "scrolled": true
   },
   "outputs": [
    {
     "data": {
      "text/plain": [
       "Dress          121\n",
       "Bag            109\n",
       "Ankle boot     106\n",
       "Trouser        102\n",
       "Shirt          101\n",
       "Sandal          98\n",
       "Coat            96\n",
       "Pullover        95\n",
       "T-shirt/top     93\n",
       "Sneaker         79\n",
       "dtype: int64"
      ]
     },
     "execution_count": 122,
     "metadata": {},
     "output_type": "execute_result"
    }
   ],
   "source": [
    "class_balance = pd.Series(y1).replace(to_rep, val).value_counts(); class_balance"
   ]
  },
  {
   "cell_type": "markdown",
   "metadata": {},
   "source": [
    "Кроссовок маловато, а платьев слишком много, если сравнивать с остальными. Если я правильно понимаю, то это ещё не дисбаланс классов. "
   ]
  },
  {
   "cell_type": "code",
   "execution_count": 141,
   "metadata": {},
   "outputs": [
    {
     "data": {
      "text/plain": [
       "<BarContainer object of 10 artists>"
      ]
     },
     "execution_count": 141,
     "metadata": {},
     "output_type": "execute_result"
    },
    {
     "data": {
      "image/png": "[encoded data removed]",
      "text/plain": [
       "<Figure size 864x648 with 1 Axes>"
      ]
     },
     "metadata": {},
     "output_type": "display_data"
    }
   ],
   "source": [
    "plt.bar(height=class_balance.values, x=class_balance.index)"
   ]
  },
  {
   "cell_type": "markdown",
   "metadata": {},
   "source": [
    "### 1.3. Разделите данные на train и test (0.5 баллов)"
   ]
  },
  {
   "cell_type": "markdown",
   "metadata": {},
   "source": [
    "Разделите данные на тренировочную и тестовую выборки, размеры тестовой выборки выберите сами. Здесь вам может помочь функция `train_test_split`"
   ]
  },
  {
   "cell_type": "code",
   "execution_count": 142,
   "metadata": {},
   "outputs": [],
   "source": [
    "X_train, X_test, y_train, y_test = train_test_split(X, y, \n",
    "                                                   random_state=SEED,\n",
    "                                                   test_size=0.1)"
   ]
  },
  {
   "cell_type": "markdown",
   "metadata": {},
   "source": [
    "### 1.4. KNN для бинарной классификации (6 баллов)"
   ]
  },
  {
   "cell_type": "markdown",
   "metadata": {},
   "source": [
    "Давайте возьмем для задачи бинарной классификации только объекты с метками классов 0 и 1."
   ]
  },
  {
   "cell_type": "code",
   "execution_count": 163,
   "metadata": {
    "scrolled": false
   },
   "outputs": [],
   "source": [
    "bin_class = {\"0\", \"1\"}\n",
    "binary_train_X, binary_train_y = X_train[y_train.astype(int)<2], y_train[y_train.astype(int)<2]\n",
    "binary_test_X, binary_test_y = X_test[y_test.astype(int)<2], y_test[y_test.astype(int)<2]"
   ]
  },
  {
   "cell_type": "markdown",
   "metadata": {},
   "source": [
    "И вот мы подготовили данные, но модели у нас пока что нет. В нескольких занятиях нашего курса вам придется самостоятельно реализовывать какие-то алгоритмы машинного обучения, а потом сравнивать их с готовыми библиотечными решениями. В остальных заданиях реализовывать алгоритмы будет не обязательно, но может быть полезно, поэтому часто это будут задания на дополнительные баллы, но главное не это, а понимание работы алгоритма после его реализации с нуля на простом numpy. Также это все потом можно оформить в виде репозитория ml_from_scratch и хвастаться перед друзьями."
   ]
  },
  {
   "cell_type": "code",
   "execution_count": 164,
   "metadata": {},
   "outputs": [],
   "source": [
    "knn_classifier = KNNClassifier(k=1)\n",
    "knn_classifier.fit(binary_train_X, binary_train_y)"
   ]
  },
  {
   "cell_type": "markdown",
   "metadata": {},
   "source": [
    "### Настало время писать код!"
   ]
  },
  {
   "cell_type": "markdown",
   "metadata": {},
   "source": [
    "В KNN нам нужно для каждого тестового примера найти расстояния до всех точек обучающей выборки. Допустим у нас 1000 примеров в train'е и 100 в test'е, тогда в итоге мы бы хотели получить матрицу попарных расстояний (например, размерностью 100 на 1000). Это можно сделать несколькими способами, и кому-то наверняка, в голову приходит идея с двумя вложенными циклами (надеюсь, что не больше:). Так можно делать, то можно и эффективнее. Вообще, в реальном KNN используется структура данных [k-d-tree](https://ru.wikipedia.org/wiki/K-d-%D0%B4%D0%B5%D1%80%D0%B5%D0%B2%D0%BE), которая позволяет производить поиск за log(N), а не за N, как будем делать мы (по сути это такое расширение бинарного поиска на многомерное пространство).\n",
    "\n",
    "Вам нужно будет последовательно реализовать методы `compute_distances_two_loops`, `compute_distances_one_loop` и `compute_distances_no_loops` класса `KNN` в файле `knn.py`.\n",
    "\n",
    "Эти функции строят массив расстояний между всеми векторами в тестовом наборе и в тренировочном наборе.  \n",
    "В результате они должны построить массив размера `(num_test, num_train)`, где координата `[i][j]` соотвествует расстоянию между i-м вектором в test (`test[i]`) и j-м вектором в train (`train[j]`).\n",
    "\n",
    "**Обратите внимание** Для простоты реализации мы будем использовать в качестве расстояния меру L1 (ее еще называют [Manhattan distance](https://ru.wikipedia.org/wiki/%D0%A0%D0%B0%D1%81%D1%81%D1%82%D0%BE%D1%8F%D0%BD%D0%B8%D0%B5_%D0%B3%D0%BE%D1%80%D0%BE%D0%B4%D1%81%D0%BA%D0%B8%D1%85_%D0%BA%D0%B2%D0%B0%D1%80%D1%82%D0%B0%D0%BB%D0%BE%D0%B2)).\n",
    "\n",
    "$d_{1}(\\mathbf {p} ,\\mathbf {q} )=\\|\\mathbf {p} -\\mathbf {q} \\|_{1}=\\sum _{i=1}^{n}|p_{i}-q_{i}|$"
   ]
  },
  {
   "cell_type": "markdown",
   "metadata": {},
   "source": [
    "В начале я буду иногда писать разные assert'ы, чтобы можно было проверить правильность реализации, в дальнейшем вам нужно будет их писать самим, если нужно будет проверять корректность каких-то вычислений."
   ]
  },
  {
   "cell_type": "code",
   "execution_count": null,
   "metadata": {},
   "outputs": [],
   "source": [
    "# TODO: compute_distances_two_loops\n",
    "dists = knn_classifier.compute_distances_two_loops(binary_test_X)\n",
    "assert np.isclose(dists[0, 100], np.sum(np.abs(binary_test_X[0] - binary_train_X[100])))"
   ]
  },
  {
   "cell_type": "code",
   "execution_count": null,
   "metadata": {},
   "outputs": [],
   "source": [
    "# TODO: compute_distances_one_loop\n",
    "dists = knn_classifier.compute_distances_one_loop(binary_test_X)\n",
    "assert np.isclose(dists[0, 100], np.sum(np.abs(binary_test_X[0] - binary_train_X[100])))"
   ]
  },
  {
   "cell_type": "code",
   "execution_count": null,
   "metadata": {},
   "outputs": [],
   "source": [
    "# TODO: compute_distances_no_loops\n",
    "dists = knn_classifier.compute_distances_no_loops(binary_test_X)\n",
    "assert np.isclose(dists[0, 100], np.sum(np.abs(binary_test_X[0] - binary_train_X[100])))"
   ]
  },
  {
   "cell_type": "markdown",
   "metadata": {},
   "source": [
    "Проверим скорость работы реализованных методов"
   ]
  },
  {
   "cell_type": "code",
   "execution_count": null,
   "metadata": {},
   "outputs": [],
   "source": [
    "%timeit knn_classifier.compute_distances_two_loops(binary_test_X)\n",
    "%timeit knn_classifier.compute_distances_one_loop(binary_test_X)\n",
    "%timeit knn_classifier.compute_distances_no_loops(binary_test_X)"
   ]
  },
  {
   "cell_type": "markdown",
   "metadata": {},
   "source": [
    "Реализуем метод для предсказания меток класса"
   ]
  },
  {
   "cell_type": "code",
   "execution_count": null,
   "metadata": {},
   "outputs": [],
   "source": [
    "# TODO: predict_labels_binary in knn.py\n",
    "prediction = knn_classifier.predict(binary_test_X)"
   ]
  },
  {
   "cell_type": "markdown",
   "metadata": {},
   "source": [
    "### Метрика"
   ]
  },
  {
   "cell_type": "markdown",
   "metadata": {},
   "source": [
    "Теперь нужно реализовать несколько метрик для бинарной классификации. Не забудьте подумать о численной нестабильности (деление на 0)."
   ]
  },
  {
   "cell_type": "code",
   "execution_count": null,
   "metadata": {},
   "outputs": [],
   "source": [
    "# TODO: binary_classification_metrics in metrics.py"
   ]
  },
  {
   "cell_type": "code",
   "execution_count": null,
   "metadata": {},
   "outputs": [],
   "source": [
    "binary_classification_metrics(prediction, binary_test_y)"
   ]
  },
  {
   "cell_type": "markdown",
   "metadata": {},
   "source": [
    "Все ли хорошо с моделью? Можно проверить свою реализацию с функциями из библиотеки `sklearn`:"
   ]
  },
  {
   "cell_type": "markdown",
   "metadata": {},
   "source": [
    "<img src=\"https://i.imgflip.com/406fu9.jpg\" width=\"800\" height=\"400\">"
   ]
  },
  {
   "cell_type": "code",
   "execution_count": null,
   "metadata": {},
   "outputs": [],
   "source": [
    "from sklearn.metrics import precision_score, recall_score, f1_score, accuracy_score"
   ]
  },
  {
   "cell_type": "markdown",
   "metadata": {},
   "source": [
    "### Подбор оптимального k"
   ]
  },
  {
   "cell_type": "markdown",
   "metadata": {},
   "source": [
    "Чтобы подрбрать оптимальное значение параметра k можно сделать следующее: задать область допустимых значений k, например, `[1, 3, 5, 10]`. Дальше для каждого k обучить модель на тренировочных данных, сделать предсказания на тестовых и посчитать какую-нибудь метрику (метрику выберите сами исходя из задачи, но постарайтесь обосновать выбор). В конце нужно посмотреть на зависимость метрики на train'е и test'е от k и выбрать подходящее значение.\n",
    "\n",
    "Реализуйте функцию `choose_best_k` прямо в ноутбуке."
   ]
  },
  {
   "cell_type": "code",
   "execution_count": null,
   "metadata": {},
   "outputs": [],
   "source": [
    "def find_best_k(X_train, y_train, X_test, y_test, params, metric):\n",
    "    \"\"\"\n",
    "    Choose the best k for KKNClassifier\n",
    "    Arguments:\n",
    "    X_train, np array (num_train_samples, num_features) - train data\n",
    "    y_train, np array (num_train_samples) - train labels\n",
    "    X_test, np array (num_test_samples, num_features) - test data\n",
    "    y_test, np array (num_test_samples) - test labels\n",
    "    params, list of hyperparameters for KNN, here it is list of k values\n",
    "    metric, function for metric calculation\n",
    "    Returns:\n",
    "    train_metrics the list of metric values on train data set for each k in params\n",
    "    test_metrics the list of metric values on test data set for each k in params\n",
    "    \"\"\"\n",
    "    \n",
    "    \"\"\"\n",
    "    YOUR CODE IS HERE\n",
    "    \"\"\"\n",
    "    pass"
   ]
  },
  {
   "cell_type": "code",
   "execution_count": null,
   "metadata": {
    "tags": []
   },
   "outputs": [],
   "source": [
    "params = [1, 2, 4, 5, 8, 10, 30]\n",
    "train_metrics, test_metrics = find_best_k(binary_train_X, binary_train_y, binary_test_X, binary_test_y, params, accuracy_score)"
   ]
  },
  {
   "cell_type": "code",
   "execution_count": null,
   "metadata": {},
   "outputs": [],
   "source": [
    "plt.plot(params, train_metrics, label=\"train\")\n",
    "plt.plot(params, test_metrics, label=\"test\")\n",
    "plt.legend()\n",
    "plt.xlabel(\"K in KNN\")\n",
    "plt.ylabel(\"YOUR METRIC\");"
   ]
  },
  {
   "cell_type": "markdown",
   "metadata": {},
   "source": [
    "На самом деле, это не самый лучший способ подбирать гиперпараметры, но способы получше мы рассмотрим в следующий раз, а пока что выберите оптимальное значение k, сделайте предсказания и посмотрите, насколько хорошо ваша модель предсказывает каждый из классов."
   ]
  },
  {
   "cell_type": "markdown",
   "metadata": {},
   "source": [
    "### 1.5. Многоклассоввая классификация (2 балла)"
   ]
  },
  {
   "cell_type": "markdown",
   "metadata": {},
   "source": [
    "Теперь нужно научиться предсказывать все 10 классов. Для этого в начале напишем соответствующий метод у нашего классификатора."
   ]
  },
  {
   "cell_type": "code",
   "execution_count": null,
   "metadata": {},
   "outputs": [],
   "source": [
    "# TODO: predict_labels_multiclass in knn.py\n",
    "knn_classifier = KNNClassifier(k=1)\n",
    "knn_classifier.fit(X_train, y_train)\n",
    "predictions = knn_classifier.predict(X_test)"
   ]
  },
  {
   "cell_type": "markdown",
   "metadata": {},
   "source": [
    "Осталось реализовать метрику качества для многоклассовой классификации, для этого реализуйте функцию `multiclass_accuracy` в `metrics.py`."
   ]
  },
  {
   "cell_type": "code",
   "execution_count": null,
   "metadata": {},
   "outputs": [],
   "source": [
    "# TODO: multiclass_accuracy in metrics.py\n",
    "multiclass_accuracy(predictions, y_test)"
   ]
  },
  {
   "cell_type": "markdown",
   "metadata": {},
   "source": [
    "Снова выберите оптимальное значение K как мы делали для бинарной классификации."
   ]
  },
  {
   "cell_type": "markdown",
   "metadata": {},
   "source": [
    "## Задание 2. KNN на датасете diabetes (10 баллов)"
   ]
  },
  {
   "cell_type": "markdown",
   "metadata": {},
   "source": [
    "Теперь попробуем применить KNN к задаче регрессии. Будем работать с [данными](https://scikit-learn.org/stable/datasets/toy_dataset.html#diabetes-dataset) о диабете. В этом задании будем использовать класс `KNeighborsRegressor` из библиотеки `sklearn`. Загрузим необходимые библиотеки:"
   ]
  },
  {
   "cell_type": "code",
   "execution_count": 6,
   "metadata": {},
   "outputs": [],
   "source": [
    "from sklearn.datasets import load_diabetes\n",
    "from sklearn.metrics import r2_score, mean_absolute_error, mean_squared_error\n",
    "from sklearn.preprocessing import StandardScaler\n",
    "from sklearn.neighbors import KNeighborsRegressor"
   ]
  },
  {
   "cell_type": "code",
   "execution_count": 45,
   "metadata": {},
   "outputs": [],
   "source": [
    "X, y = load_diabetes(return_X_y=True)"
   ]
  },
  {
   "cell_type": "code",
   "execution_count": 46,
   "metadata": {},
   "outputs": [],
   "source": [
    "X = pd.DataFrame(X, columns=np.array([\"age\", \"sex\", \"bmi\", \"bp\", \"s1\",\n",
    "                            \"s2\", \"s3\", \"s4\", \"s5\", \"s6\"]))\n",
    "y = pd.DataFrame(y)"
   ]
  },
  {
   "cell_type": "code",
   "execution_count": 153,
   "metadata": {},
   "outputs": [
    {
     "data": {
      "text/plain": [
       "array(['5', '9', '0', '3', '5', '1', '3', '9', '2', '9', '5', '9', '2',\n",
       "       '8', '8', '5', '0', '1', '6', '1', '9', '1', '7', '0', '9', '9',\n",
       "       '2', '0', '2', '1', '2', '0', '3', '2', '4', '5', '0', '1', '6',\n",
       "       '6', '3', '4', '3', '9', '2', '2', '3', '2', '6', '7', '3', '0',\n",
       "       '3', '3', '1', '3', '8', '2', '8', '0', '4', '7', '7', '3', '8',\n",
       "       '8', '2', '2', '5', '5', '3', '9', '1', '6', '5', '6', '0', '6',\n",
       "       '6', '1', '0', '0', '0', '8', '8', '3', '8', '0', '4', '7', '4',\n",
       "       '2', '8', '9', '9', '1', '1', '7', '4', '4', '4', '8', '0', '1',\n",
       "       '5', '7', '8', '4', '0', '3', '3', '5', '0', '9', '8', '3', '6',\n",
       "       '9', '4', '6', '0', '1', '6', '0', '7', '3', '1', '9', '9', '5',\n",
       "       '8', '3', '3', '9', '4', '6', '9', '3', '4', '3', '9', '6', '9',\n",
       "       '5', '6', '8', '2', '8', '4', '6', '5', '5', '3', '9', '4', '7',\n",
       "       '3', '3', '0', '0', '4', '4', '9', '4', '5', '9', '9', '1', '5',\n",
       "       '3', '1', '5', '9', '4', '5', '7', '3', '6', '0', '0', '1', '3',\n",
       "       '3', '5', '9', '4', '3', '1', '8', '3', '1', '6', '6', '3', '6',\n",
       "       '8', '6', '4', '8', '3', '8', '0', '2', '8', '1', '1', '4', '2',\n",
       "       '5', '2', '2', '2', '1', '2', '8', '0', '3', '8', '9', '5', '2',\n",
       "       '7', '2', '1', '9', '3', '4', '3', '9', '5', '6', '4', '0', '6',\n",
       "       '6', '6', '8', '6', '9', '3', '6', '0', '4', '8', '3', '0', '0',\n",
       "       '6', '5', '4', '9', '2', '5', '2', '9', '4', '0', '3', '9', '5',\n",
       "       '8', '1', '6', '4', '3', '4', '5', '9', '0', '4', '4', '0', '6',\n",
       "       '5', '7', '6', '1', '1', '8', '8', '9', '1', '1', '8', '8', '9',\n",
       "       '8', '6', '3', '4', '5', '1', '9', '1', '2', '7', '3', '5', '4',\n",
       "       '9', '6', '4', '6', '3', '0', '1', '6', '7', '9', '6', '6', '2',\n",
       "       '2', '6', '1', '5', '4', '8', '0', '8', '8', '7', '3', '0', '0',\n",
       "       '6', '2', '9', '5', '8', '3', '5', '0', '6', '8', '6', '9', '8',\n",
       "       '6', '4', '4', '3', '2', '6', '1', '3', '2', '1', '6', '4', '4',\n",
       "       '5', '5', '3', '8', '3', '7', '3', '9', '0', '8', '8', '8', '6',\n",
       "       '5', '7', '9', '1', '3', '9', '8', '5', '1', '4', '4', '8', '9',\n",
       "       '3', '4', '1', '8', '4', '6', '8', '1', '5', '6', '0', '4', '8',\n",
       "       '4', '8', '8', '6', '7', '6', '3', '8', '2', '7', '4', '0', '6',\n",
       "       '0', '8', '1', '2', '1', '0', '7', '3', '5', '4', '4', '1', '7',\n",
       "       '2', '1', '3', '8', '6', '7', '6', '3', '9', '2', '4', '7', '8',\n",
       "       '7', '7', '7', '5', '3', '6', '8', '6', '0', '2', '1', '5', '7',\n",
       "       '3', '6', '9', '5', '5', '6', '8', '0', '1', '3', '7', '8', '8',\n",
       "       '5', '1', '0', '4', '2', '0', '5', '6', '6', '6', '9', '6', '8',\n",
       "       '1', '1', '4', '5', '3', '9', '7', '8', '8', '7', '0', '9', '6',\n",
       "       '5', '0', '4', '9', '8', '5', '6', '1', '0', '9', '2', '8', '4',\n",
       "       '2', '4', '3', '2', '5', '4', '5', '2', '5', '6', '9', '9', '2',\n",
       "       '9', '0', '9', '7', '4', '8', '7', '0', '5', '1', '6', '5', '4',\n",
       "       '2', '7', '4', '3', '1', '9', '5', '9', '2', '8', '6', '7', '1',\n",
       "       '9', '4', '2', '7', '3', '1', '8', '7', '2', '6', '5', '5', '0',\n",
       "       '9', '2', '3', '8', '5', '8', '3', '9', '7', '6', '9', '8', '7',\n",
       "       '8', '4', '6', '2', '9', '1', '8', '3', '1', '5', '0', '5', '1',\n",
       "       '2', '5', '2', '5', '3', '9', '7', '3', '2', '7', '0', '5', '3',\n",
       "       '1', '1', '2', '6', '6', '1', '5', '1', '4', '6', '1', '7', '7',\n",
       "       '2', '2', '1', '2', '9', '9', '6', '4', '3', '6', '3', '3', '0',\n",
       "       '7', '3', '7', '1', '8', '9', '2', '0', '6', '2', '0', '3', '9',\n",
       "       '3', '5', '5', '3', '9', '5', '3', '1', '8', '8', '2', '5', '9',\n",
       "       '0', '8', '9', '7', '0', '4', '8', '7', '6', '6', '1', '3', '6',\n",
       "       '4', '5', '3', '4', '2', '4', '4', '8', '9', '6', '3', '9', '6',\n",
       "       '1', '0', '2', '2', '2', '1', '6', '7', '4', '5', '0', '2', '4',\n",
       "       '3', '0', '0', '5', '2', '0', '2', '7', '0', '5', '1', '4', '1',\n",
       "       '9', '1', '7', '2', '3', '8', '1', '3', '0', '3', '2', '5', '8',\n",
       "       '9', '7', '0', '7', '2', '8', '2', '7', '3', '4', '9', '2', '9',\n",
       "       '5', '2', '3', '3', '5', '3', '4', '3', '4', '0', '1', '3', '3',\n",
       "       '8', '7', '0', '5', '1', '4', '5', '1', '1', '3', '8', '7', '9',\n",
       "       '3', '9', '4', '1', '0', '5', '5', '6', '3', '9', '2', '2', '2',\n",
       "       '4', '7', '9', '6', '7', '6', '3', '9', '3', '0', '6', '8', '6',\n",
       "       '0', '8', '9', '9', '6', '3', '4', '8', '8', '4', '1', '2', '3',\n",
       "       '0', '7', '0', '6', '1', '1', '6', '6', '3', '9', '9', '7', '5',\n",
       "       '9', '8', '4', '3', '8', '0', '1', '7', '1', '8', '3', '6', '2',\n",
       "       '3', '0', '1', '5', '8', '4', '7', '7', '9', '4', '0', '0', '0',\n",
       "       '9', '2', '4', '9', '4', '5', '1', '5', '9', '7', '8', '1', '8',\n",
       "       '4', '9', '1', '4', '3', '3', '7', '6', '9', '6', '8', '4', '2',\n",
       "       '3', '0', '7', '5', '3', '1', '9', '2', '5', '7', '7', '6', '0',\n",
       "       '8', '1', '0', '1', '5', '6', '8', '9', '2', '8', '9', '1', '4',\n",
       "       '9', '4', '3', '0', '7', '6', '3', '3', '5', '3', '6', '2', '9',\n",
       "       '2', '1', '5', '6', '0', '6', '8', '7', '0', '2', '1', '3', '1',\n",
       "       '4', '4', '2', '5', '2', '9', '3', '8', '1', '4', '8', '8', '8',\n",
       "       '5', '1', '5', '3', '3', '1', '5', '6', '5', '0', '3', '9', '0',\n",
       "       '0', '7', '2', '1', '4', '8', '9', '0', '9', '0', '8', '1', '5',\n",
       "       '2', '8', '4', '0', '2', '6', '2', '4', '8', '0', '4', '3', '3',\n",
       "       '8', '1', '7', '2', '6', '3', '0', '9', '7', '2', '8', '5', '7',\n",
       "       '0', '7', '7', '3', '9', '7', '4', '3', '2', '9', '2', '5', '7',\n",
       "       '8', '5', '7', '1', '3', '1', '1', '5', '3', '8', '7', '8', '5',\n",
       "       '1', '2', '9', '5', '9', '7', '2', '1', '6', '4', '8', '2'],\n",
       "      dtype=object)"
      ]
     },
     "execution_count": 153,
     "metadata": {},
     "output_type": "execute_result"
    }
   ],
   "source": [
    "y"
   ]
  },
  {
   "cell_type": "markdown",
   "metadata": {},
   "source": [
    "### 2.1. EDA (2 обязательных балла + 2 доп. балла за Pipeline)"
   ]
  },
  {
   "cell_type": "markdown",
   "metadata": {},
   "source": [
    "Сделайте EDA, предобработайте данные так, как считаете нужным, нужна ли в данном случае стандартизация и почему? Не забудте, что если вы стандартизуете данные, то нужно считать среднее и сдандартное отклонение на тренировочной части и с помощью них трансформировать и train, и test (**если не поняли это предложение, то обязательно разберитесь**).\n",
    "\n",
    "**Дополнительно**:\n",
    "Попробуйте разобраться с [`Pipeline`](https://scikit-learn.org/stable/modules/generated/sklearn.pipeline.Pipeline.html), чтобы можно было создать класс, который сразу проводит стандартизацию и обучает модель (или делает предсказание). Пайплайны очень удобны, когда нужно применять различные методы предобработки данных (в том числе и к разным столбцам), а также они позволяют правильно интегрировать предобработку данных в различные классы для поиска наилучших гиперпараметров модели (например, `GridSearchCV`)."
   ]
  },
  {
   "cell_type": "code",
   "execution_count": null,
   "metadata": {},
   "outputs": [],
   "source": [
    "from sklearn.pipeline import Pipeline"
   ]
  },
  {
   "cell_type": "markdown",
   "metadata": {},
   "source": [
    "### 2.2. Регрессионная модель (1 балл)"
   ]
  },
  {
   "cell_type": "markdown",
   "metadata": {},
   "source": [
    "Создайте модель `KNeighborsRegressor`, обучите ее на треноровочных данных и сделайте предсказания."
   ]
  },
  {
   "cell_type": "markdown",
   "metadata": {},
   "source": [
    "### 2.3. Метрики регресии (3 балла)"
   ]
  },
  {
   "cell_type": "markdown",
   "metadata": {},
   "source": [
    "Реализуйте метрики $R^2$, MSE и  MAE в `metrics.py`. Примените их для оценки качества полученной модели. Все ли хорошо?\n",
    "\n",
    "Напомню, что:\n",
    "\n",
    "$R^2 = 1 - \\frac{\\sum_i^n{(y_i - \\hat{y_i})^2}}{\\sum_i^n{(y_i - \\overline{y})^2}}$\n",
    "\n",
    "$MSE = \\frac{1}{n}\\sum_i^n{(y_i - \\hat{y_i})^2}$\n",
    "\n",
    "$MAE = \\frac{1}{n}\\sum_i^n{|y_i - \\hat{y_i}|}$"
   ]
  },
  {
   "cell_type": "code",
   "execution_count": null,
   "metadata": {},
   "outputs": [],
   "source": [
    "# TODO: r_squared, mse, mae in metrics.py"
   ]
  },
  {
   "cell_type": "markdown",
   "metadata": {},
   "source": [
    "### 2.4. Подбор оптимального числа соседей (2 балла)"
   ]
  },
  {
   "cell_type": "markdown",
   "metadata": {},
   "source": [
    "Мы почти дошли до конца. Теперь осталось при помощи реализованных нами метрик выбрать лучшее количество соседей для нашей модели.\n",
    "\n",
    "!!! Обратите внимание на то, что значат наши метрики, для некоторых хорошо, когда они уменьшаются, для других наоборот."
   ]
  },
  {
   "cell_type": "code",
   "execution_count": null,
   "metadata": {},
   "outputs": [],
   "source": [
    "from metrics import r_squared, mse, mae"
   ]
  },
  {
   "cell_type": "markdown",
   "metadata": {},
   "source": [
    "Для поиска лучшего k вы можете воспользоваться функцией `find_best_k`, которую вы реализовали выше."
   ]
  },
  {
   "cell_type": "markdown",
   "metadata": {},
   "source": [
    "### 3. Социализация (0.5 доп. балла)\n",
    "\n",
    "Так как у нас теперь большая группа, то было бы здорово всем познакомиться получше (так как выпускной не за горами). Соберитесь с одногруппниками в зуме (желательно, чтобы были люди и с Онлайна, и с Питера), познакомьтесь, а сюда прикрепите скриншот с камерами всех участников."
   ]
  },
  {
   "cell_type": "markdown",
   "metadata": {},
   "source": [
    "## Therapy time"
   ]
  },
  {
   "cell_type": "markdown",
   "metadata": {},
   "source": [
    "Напишите здесь ваши впечатления о задании: было ли интересно, было ли слишком легко или наоборот сложно и тд. Также сюда можно написать свои идеи по улучшению заданий, а также предложить данные, на основе которых вы бы хотели построить следующие дз. "
   ]
  },
  {
   "cell_type": "markdown",
   "metadata": {},
   "source": [
    "**Ваши мысли:**\n",
    "\n",
    "* Я\n",
    "* просто\n",
    "* сдох"
   ]
  }
 ],
 "metadata": {
  "kernelspec": {
   "display_name": "Python 3",
   "language": "python",
   "name": "python3"
  },
  "language_info": {
   "codemirror_mode": {
    "name": "ipython",
    "version": 3
   },
   "file_extension": ".py",
   "mimetype": "text/x-python",
   "name": "python",
   "nbconvert_exporter": "python",
   "pygments_lexer": "ipython3",
   "version": "3.7.0"
  }
 },
 "nbformat": 4,
 "nbformat_minor": 5
}
